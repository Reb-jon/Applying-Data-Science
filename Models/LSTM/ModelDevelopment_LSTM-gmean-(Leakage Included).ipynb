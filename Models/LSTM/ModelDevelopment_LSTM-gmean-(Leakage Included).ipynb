{
 "cells": [
  {
   "cell_type": "markdown",
   "id": "3ebf7ba6-6a42-4664-be6b-7b232e32ae90",
   "metadata": {},
   "source": [
    "# Applying Data Science Model Development (LSTM)"
   ]
  },
  {
   "cell_type": "markdown",
   "id": "f64c71d2-0359-489e-adf5-b5c6d751cac1",
   "metadata": {},
   "source": [
    "## 1. Preprocess the data"
   ]
  },
  {
   "cell_type": "code",
   "execution_count": 1,
   "id": "f7374850-b553-416b-8da7-62604e2a4c82",
   "metadata": {},
   "outputs": [
    {
     "name": "stderr",
     "output_type": "stream",
     "text": [
      "C:\\Users\\teppe\\anaconda3\\envs\\test_env\\lib\\site-packages\\tqdm\\auto.py:21: TqdmWarning: IProgress not found. Please update jupyter and ipywidgets. See https://ipywidgets.readthedocs.io/en/stable/user_install.html\n",
      "  from .autonotebook import tqdm as notebook_tqdm\n"
     ]
    }
   ],
   "source": [
    "# === Step 0: Import Libraries ===\n",
    "import torch\n",
    "import torch.nn as nn\n",
    "from torch.utils.data import Dataset, DataLoader\n",
    "from sklearn.model_selection import train_test_split\n",
    "from sklearn.preprocessing import StandardScaler\n",
    "from sklearn.metrics import roc_auc_score, f1_score, precision_score, recall_score, confusion_matrix\n",
    "import pandas as pd\n",
    "import numpy as np\n",
    "import optuna\n",
    "import joblib\n",
    "import os\n",
    "import matplotlib.pyplot as plt\n",
    "import seaborn as sns\n",
    "from sklearn.preprocessing import LabelEncoder"
   ]
  },
  {
   "cell_type": "code",
   "execution_count": 2,
   "id": "1d9c766a-8ecd-45e7-8e37-e8504ec1be30",
   "metadata": {},
   "outputs": [],
   "source": [
    "# === Step 1: Data Preparation ===\n",
    "# load the data\n",
    "df = pd.read_csv(\"Final_v2_processed.csv\")\n",
    "test_df = pd.read_csv(\"Final_test_v2_processed.csv\")\n",
    "\n",
    "# Convert 'addr_state' from string to numeric\n",
    "le = LabelEncoder()\n",
    "df[\"addr_state\"] = le.fit_transform(df[\"addr_state\"])\n",
    "test_df[\"addr_state\"] = le.fit_transform(test_df[\"addr_state\"])\n",
    "\n",
    "# Replace 'df' with your actual DataFrame\n",
    "target_col = \"loan_status\"\n",
    "feature_cols = [col for col in df.columns if col != target_col and col != \"id\"]\n",
    "\n",
    "# Extract features and target\n",
    "X = df[feature_cols].values\n",
    "y = df[target_col].values\n",
    "X_test = test_df[feature_cols].values\n",
    "y_test = test_df[target_col].values\n",
    "\n",
    "# Standardize features\n",
    "#scaler = StandardScaler()\n",
    "#X_test = scaler.transform(X_test)\n",
    "\n",
    "# Reshape for LSTM input: (samples, sequence_length, input_size)\n",
    "X = X.reshape(X.shape[0], 1, X.shape[1])\n",
    "X_test = X_test.reshape(X_test.shape[0], 1, X_test.shape[1])\n",
    "\n",
    "# Split into train and validation sets\n",
    "X_train, X_val, y_train, y_val = train_test_split(X, y, test_size=0.2, random_state=42)\n",
    "\n",
    "# Custom Dataset class\n",
    "class LoanDataset(Dataset):\n",
    "    def __init__(self, X, y):\n",
    "        self.X = torch.tensor(X, dtype=torch.float32)\n",
    "        self.y = torch.tensor(y, dtype=torch.long)  # long type for classification\n",
    "\n",
    "    def __len__(self):\n",
    "        return len(self.X)\n",
    "\n",
    "    def __getitem__(self, idx):\n",
    "        return self.X[idx], self.y[idx]\n",
    "\n",
    "# Create Dataset instances\n",
    "train_dataset = LoanDataset(X_train, y_train)\n",
    "val_dataset = LoanDataset(X_val, y_val)\n",
    "test_dataset = LoanDataset(X_test, y_test)"
   ]
  },
  {
   "cell_type": "markdown",
   "id": "9a46c431-293f-4735-b05d-83c46b346aef",
   "metadata": {},
   "source": [
    "## 2. Define the LSTM model"
   ]
  },
  {
   "cell_type": "code",
   "execution_count": 3,
   "id": "8ace1cda-c8fc-4579-9a12-315768a381cc",
   "metadata": {},
   "outputs": [],
   "source": [
    "# === Step 2: Define LSTM Model ===\n",
    "class LSTMClassifier(nn.Module):\n",
    "    def __init__(self, input_size, hidden_size, num_layers, num_classes, dropout):\n",
    "        super(LSTMClassifier, self).__init__()\n",
    "        self.lstm = nn.LSTM(input_size, hidden_size, num_layers,\n",
    "                            batch_first=True, dropout=dropout)\n",
    "        self.fc = nn.Linear(hidden_size, num_classes)\n",
    "\n",
    "    def forward(self, x):\n",
    "        out, _ = self.lstm(x)             # LSTM output\n",
    "        out = out[:, -1, :]               # Use only last time step\n",
    "        out = self.fc(out)                # Final classification layer\n",
    "        return out"
   ]
  },
  {
   "cell_type": "markdown",
   "id": "71e917e4-58dd-43b7-942c-eaa994f1d4f9",
   "metadata": {},
   "source": [
    "## 3. Tune hyperparameters by Optuna"
   ]
  },
  {
   "cell_type": "code",
   "execution_count": 4,
   "id": "ece9fa43-ebb2-4224-8a0b-1fe8797e0c58",
   "metadata": {},
   "outputs": [
    {
     "name": "stderr",
     "output_type": "stream",
     "text": [
      "[I 2025-04-28 20:22:46,697] A new study created in memory with name: no-name-472c4564-bc72-46dd-acec-d3a68901831d\n",
      "[I 2025-04-28 20:32:35,222] Trial 0 finished with value: 0.06580110929096339 and parameters: {'hidden_size': 80, 'num_layers': 3, 'dropout': 0.3657631921937972, 'lr': 0.00020844078282736232, 'batch_size': 32}. Best is trial 0 with value: 0.06580110929096339.\n",
      "C:\\Users\\teppe\\anaconda3\\envs\\test_env\\lib\\site-packages\\torch\\nn\\modules\\rnn.py:83: UserWarning: dropout option adds dropout after all but last recurrent layer, so non-zero dropout expects num_layers greater than 1, but got dropout=0.35196413930548043 and num_layers=1\n",
      "  warnings.warn(\"dropout option adds dropout after all but last \"\n",
      "[I 2025-04-28 20:34:01,005] Trial 1 finished with value: 1.0 and parameters: {'hidden_size': 53, 'num_layers': 1, 'dropout': 0.35196413930548043, 'lr': 0.0026510564913692714, 'batch_size': 128}. Best is trial 0 with value: 0.06580110929096339.\n",
      "[I 2025-04-28 20:37:14,954] Trial 2 finished with value: 0.06286132186787396 and parameters: {'hidden_size': 53, 'num_layers': 2, 'dropout': 0.02109282602513063, 'lr': 0.000177697253614232, 'batch_size': 64}. Best is trial 2 with value: 0.06286132186787396.\n",
      "C:\\Users\\teppe\\anaconda3\\envs\\test_env\\lib\\site-packages\\torch\\nn\\modules\\rnn.py:83: UserWarning: dropout option adds dropout after all but last recurrent layer, so non-zero dropout expects num_layers greater than 1, but got dropout=0.4051372496113265 and num_layers=1\n",
      "  warnings.warn(\"dropout option adds dropout after all but last \"\n",
      "[I 2025-04-28 20:39:21,115] Trial 3 finished with value: 1.0 and parameters: {'hidden_size': 60, 'num_layers': 1, 'dropout': 0.4051372496113265, 'lr': 0.0006225344124499413, 'batch_size': 64}. Best is trial 2 with value: 0.06286132186787396.\n",
      "[I 2025-04-28 20:41:48,693] Trial 4 finished with value: 1.0 and parameters: {'hidden_size': 53, 'num_layers': 3, 'dropout': 0.47423226842057864, 'lr': 0.0034137223022067337, 'batch_size': 128}. Best is trial 2 with value: 0.06286132186787396.\n",
      "[I 2025-04-28 20:53:27,392] Trial 5 finished with value: 1.0 and parameters: {'hidden_size': 102, 'num_layers': 3, 'dropout': 0.007868774314959692, 'lr': 0.009124834627961471, 'batch_size': 32}. Best is trial 2 with value: 0.06286132186787396.\n",
      "[I 2025-04-28 21:00:21,965] Trial 6 finished with value: 0.0634440041891281 and parameters: {'hidden_size': 48, 'num_layers': 3, 'dropout': 0.15520545863362678, 'lr': 0.0001680425178845976, 'batch_size': 32}. Best is trial 2 with value: 0.06286132186787396.\n",
      "[I 2025-04-28 21:05:56,725] Trial 7 finished with value: 1.0 and parameters: {'hidden_size': 62, 'num_layers': 2, 'dropout': 0.17725242011055992, 'lr': 0.009401390040675035, 'batch_size': 32}. Best is trial 2 with value: 0.06286132186787396.\n",
      "C:\\Users\\teppe\\anaconda3\\envs\\test_env\\lib\\site-packages\\torch\\nn\\modules\\rnn.py:83: UserWarning: dropout option adds dropout after all but last recurrent layer, so non-zero dropout expects num_layers greater than 1, but got dropout=0.4250121025154426 and num_layers=1\n",
      "  warnings.warn(\"dropout option adds dropout after all but last \"\n",
      "[I 2025-04-28 21:08:19,493] Trial 8 finished with value: 1.0 and parameters: {'hidden_size': 90, 'num_layers': 1, 'dropout': 0.4250121025154426, 'lr': 0.0005202325400812635, 'batch_size': 64}. Best is trial 2 with value: 0.06286132186787396.\n",
      "[I 2025-04-28 21:10:08,193] Trial 9 finished with value: 0.06712016046653846 and parameters: {'hidden_size': 52, 'num_layers': 2, 'dropout': 0.4153808579114715, 'lr': 0.00014449222360326158, 'batch_size': 128}. Best is trial 2 with value: 0.06286132186787396.\n",
      "[I 2025-04-28 21:12:37,465] Trial 10 finished with value: 0.06400033193999533 and parameters: {'hidden_size': 33, 'num_layers': 2, 'dropout': 0.05730285598081897, 'lr': 0.0003507137380903514, 'batch_size': 64}. Best is trial 2 with value: 0.06286132186787396.\n",
      "[I 2025-04-28 21:15:06,470] Trial 11 finished with value: 0.06886060033271335 and parameters: {'hidden_size': 33, 'num_layers': 2, 'dropout': 0.12831908613688348, 'lr': 0.00011166040773948796, 'batch_size': 64}. Best is trial 2 with value: 0.06286132186787396.\n",
      "[I 2025-04-28 21:26:04,849] Trial 12 finished with value: 0.07468504441575397 and parameters: {'hidden_size': 120, 'num_layers': 3, 'dropout': 0.2612103157358786, 'lr': 0.0002565398078180778, 'batch_size': 32}. Best is trial 2 with value: 0.06286132186787396.\n",
      "[I 2025-04-28 21:29:46,356] Trial 13 finished with value: 1.0 and parameters: {'hidden_size': 74, 'num_layers': 2, 'dropout': 0.13737672242634935, 'lr': 0.0011991385831816308, 'batch_size': 64}. Best is trial 2 with value: 0.06286132186787396.\n",
      "[I 2025-04-28 21:35:30,663] Trial 14 finished with value: 1.0 and parameters: {'hidden_size': 41, 'num_layers': 3, 'dropout': 0.23474845718090265, 'lr': 0.0001028532917463351, 'batch_size': 32}. Best is trial 2 with value: 0.06286132186787396.\n",
      "[I 2025-04-28 21:40:42,526] Trial 15 finished with value: 1.0 and parameters: {'hidden_size': 70, 'num_layers': 2, 'dropout': 0.05432711843382482, 'lr': 0.001007452458119816, 'batch_size': 32}. Best is trial 2 with value: 0.06286132186787396.\n",
      "[I 2025-04-28 21:44:10,756] Trial 16 finished with value: 0.07567491132916371 and parameters: {'hidden_size': 47, 'num_layers': 3, 'dropout': 0.004115742275393373, 'lr': 0.00021392140336191337, 'batch_size': 64}. Best is trial 2 with value: 0.06286132186787396.\n",
      "C:\\Users\\teppe\\anaconda3\\envs\\test_env\\lib\\site-packages\\torch\\nn\\modules\\rnn.py:83: UserWarning: dropout option adds dropout after all but last recurrent layer, so non-zero dropout expects num_layers greater than 1, but got dropout=0.08914103978215243 and num_layers=1\n",
      "  warnings.warn(\"dropout option adds dropout after all but last \"\n",
      "[I 2025-04-28 21:46:32,977] Trial 17 finished with value: 0.06289727973400339 and parameters: {'hidden_size': 93, 'num_layers': 1, 'dropout': 0.08914103978215243, 'lr': 0.00045756902777518787, 'batch_size': 64}. Best is trial 2 with value: 0.06286132186787396.\n",
      "C:\\Users\\teppe\\anaconda3\\envs\\test_env\\lib\\site-packages\\torch\\nn\\modules\\rnn.py:83: UserWarning: dropout option adds dropout after all but last recurrent layer, so non-zero dropout expects num_layers greater than 1, but got dropout=0.10438298985969674 and num_layers=1\n",
      "  warnings.warn(\"dropout option adds dropout after all but last \"\n",
      "[I 2025-04-28 21:49:21,536] Trial 18 finished with value: 0.06210284442316494 and parameters: {'hidden_size': 95, 'num_layers': 1, 'dropout': 0.10438298985969674, 'lr': 0.00048464929317615574, 'batch_size': 64}. Best is trial 18 with value: 0.06210284442316494.\n",
      "C:\\Users\\teppe\\anaconda3\\envs\\test_env\\lib\\site-packages\\torch\\nn\\modules\\rnn.py:83: UserWarning: dropout option adds dropout after all but last recurrent layer, so non-zero dropout expects num_layers greater than 1, but got dropout=0.242761239819767 and num_layers=1\n",
      "  warnings.warn(\"dropout option adds dropout after all but last \"\n",
      "[I 2025-04-28 21:52:16,879] Trial 19 finished with value: 1.0 and parameters: {'hidden_size': 111, 'num_layers': 1, 'dropout': 0.242761239819767, 'lr': 0.002148368877556567, 'batch_size': 64}. Best is trial 18 with value: 0.06210284442316494.\n"
     ]
    },
    {
     "name": "stdout",
     "output_type": "stream",
     "text": [
      "Best hyperparameters: {'hidden_size': 95, 'num_layers': 1, 'dropout': 0.10438298985969674, 'lr': 0.00048464929317615574, 'batch_size': 64}\n",
      "Best threshold: 0.15000000000000002\n"
     ]
    }
   ],
   "source": [
    "# === Step 3: Optuna Hyperparameter Tuning ===\n",
    "from imblearn.metrics import geometric_mean_score\n",
    "\n",
    "def objective(trial):\n",
    "    hidden_size = trial.suggest_int(\"hidden_size\", 32, 128)\n",
    "    num_layers = trial.suggest_int(\"num_layers\", 1, 3)\n",
    "    dropout = trial.suggest_float(\"dropout\", 0.0, 0.5)\n",
    "    lr = trial.suggest_float(\"lr\", 1e-4, 1e-2, log=True)\n",
    "    batch_size = trial.suggest_categorical(\"batch_size\", [32, 64, 128])\n",
    "\n",
    "    train_loader = DataLoader(train_dataset, batch_size=batch_size, shuffle=True)\n",
    "    val_loader = DataLoader(val_dataset, batch_size=batch_size)\n",
    "\n",
    "    model = LSTMClassifier(input_size=X.shape[2], hidden_size=hidden_size,\n",
    "                           num_layers=num_layers, num_classes=2, dropout=dropout)\n",
    "    criterion = nn.CrossEntropyLoss()\n",
    "    optimizer = torch.optim.Adam(model.parameters(), lr=lr)\n",
    "\n",
    "    for epoch in range(10):\n",
    "        model.train()\n",
    "        for X_batch, y_batch in train_loader:\n",
    "            optimizer.zero_grad()\n",
    "            outputs = model(X_batch)\n",
    "            loss = criterion(outputs, y_batch)\n",
    "            loss.backward()\n",
    "            optimizer.step()\n",
    "\n",
    "    # Validation with threshold sweep\n",
    "    model.eval()\n",
    "    y_true, y_prob = [], []\n",
    "    with torch.no_grad():\n",
    "        for X_batch, y_batch in val_loader:\n",
    "            outputs = model(X_batch)\n",
    "            probs = torch.softmax(outputs, dim=1)[:, 1]  # Get class 1 probabilities\n",
    "            y_prob.extend(probs.cpu().numpy())\n",
    "            y_true.extend(y_batch.cpu().numpy())\n",
    "\n",
    "    # Threshold sweep to find best G-Mean\n",
    "    best_gmean = 0\n",
    "    best_threshold = 0.5\n",
    "    thresholds = np.arange(0.1, 0.91, 0.05)\n",
    "    for threshold in thresholds:\n",
    "        preds = (np.array(y_prob) > threshold).astype(int)\n",
    "        gmean = geometric_mean_score(y_true, preds)\n",
    "        if gmean > best_gmean:\n",
    "            best_gmean = gmean\n",
    "            best_threshold = threshold\n",
    "\n",
    "    trial.set_user_attr(\"best_threshold\", best_threshold)\n",
    "    return 1 - best_gmean\n",
    "\n",
    "# Run Optuna\n",
    "study = optuna.create_study()\n",
    "study.optimize(objective, n_trials=20)\n",
    "best_params = study.best_trial.params\n",
    "best_threshold = study.best_trial.user_attrs[\"best_threshold\"]\n",
    "print(\"Best hyperparameters:\", best_params)\n",
    "print(\"Best threshold:\", best_threshold)"
   ]
  },
  {
   "cell_type": "markdown",
   "id": "b78cf1aa-b445-46eb-9231-6a47e3a865fc",
   "metadata": {},
   "source": [
    "## 4. Re-learn with the optimized parameters"
   ]
  },
  {
   "cell_type": "code",
   "execution_count": 5,
   "id": "f8d672d6-20e7-4921-aa8e-3efff07ae642",
   "metadata": {},
   "outputs": [
    {
     "name": "stderr",
     "output_type": "stream",
     "text": [
      "C:\\Users\\teppe\\anaconda3\\envs\\test_env\\lib\\site-packages\\torch\\nn\\modules\\rnn.py:83: UserWarning: dropout option adds dropout after all but last recurrent layer, so non-zero dropout expects num_layers greater than 1, but got dropout=0.10438298985969674 and num_layers=1\n",
      "  warnings.warn(\"dropout option adds dropout after all but last \"\n"
     ]
    },
    {
     "name": "stdout",
     "output_type": "stream",
     "text": [
      "Epoch 1 - Train Loss: 0.4504, Val Loss: 0.4493\n",
      "Epoch 2 - Train Loss: 0.3745, Val Loss: 0.2413\n",
      "Epoch 3 - Train Loss: 0.1907, Val Loss: 0.1466\n",
      "Epoch 4 - Train Loss: 0.1374, Val Loss: 0.1200\n",
      "Epoch 5 - Train Loss: 0.1218, Val Loss: 0.1374\n",
      "Epoch 6 - Train Loss: 0.1139, Val Loss: 0.1080\n",
      "Epoch 7 - Train Loss: 0.1098, Val Loss: 0.1009\n",
      "Epoch 8 - Train Loss: 0.1081, Val Loss: 0.1006\n",
      "Epoch 9 - Train Loss: 0.1094, Val Loss: 0.0982\n",
      "Epoch 10 - Train Loss: 0.1053, Val Loss: 0.1024\n",
      "Epoch 11 - Train Loss: 0.1064, Val Loss: 0.0947\n",
      "Epoch 12 - Train Loss: 0.1060, Val Loss: 0.0943\n",
      "Epoch 13 - Train Loss: 0.1043, Val Loss: 0.1064\n",
      "Epoch 14 - Train Loss: 0.1028, Val Loss: 0.1018\n",
      "Epoch 15 - Train Loss: 0.1029, Val Loss: 0.0919\n",
      "Epoch 16 - Train Loss: 0.1026, Val Loss: 0.1284\n",
      "Epoch 17 - Train Loss: 0.1033, Val Loss: 0.0986\n",
      "Epoch 18 - Train Loss: 0.1028, Val Loss: 0.1133\n",
      "Epoch 19 - Train Loss: 0.1030, Val Loss: 0.1020\n",
      "Epoch 20 - Train Loss: 0.1023, Val Loss: 0.0908\n"
     ]
    }
   ],
   "source": [
    "# === Step 4: Train Final Model with Best Params ===\n",
    "#batch_size = best_params['batch_size']\n",
    "batch_size = 32\n",
    "train_loader = DataLoader(train_dataset, batch_size=batch_size, shuffle=True)\n",
    "val_loader = DataLoader(val_dataset, batch_size=batch_size)\n",
    "\n",
    "model = LSTMClassifier(input_size=X.shape[2],\n",
    "                       hidden_size=best_params['hidden_size'],\n",
    "                       num_layers=best_params['num_layers'],\n",
    "                       num_classes=2,\n",
    "                       dropout=best_params['dropout']\n",
    "                       )\n",
    "\n",
    "criterion = nn.CrossEntropyLoss()\n",
    "optimizer = torch.optim.Adam(model.parameters(), lr=best_params['lr'])\n",
    "\n",
    "# Initialize early stopping variables\n",
    "patience = 5\n",
    "min_delta = 1e-4\n",
    "best_val_loss = float('inf')\n",
    "epochs_no_improve = 0\n",
    "early_stop = False\n",
    "\n",
    "# Lists to store loss per epoch\n",
    "train_losses = []\n",
    "val_losses = []\n",
    "\n",
    "# Updated training loop with loss tracking\n",
    "for epoch in range(20):\n",
    "    model.train()\n",
    "    running_train_loss = 0.0\n",
    "    for X_batch, y_batch in train_loader:\n",
    "        optimizer.zero_grad()\n",
    "        outputs = model(X_batch)\n",
    "        loss = criterion(outputs, y_batch)\n",
    "        loss.backward()\n",
    "        optimizer.step()\n",
    "        running_train_loss += loss.item()\n",
    "\n",
    "    avg_train_loss = running_train_loss / len(train_loader)\n",
    "    train_losses.append(avg_train_loss)\n",
    "\n",
    "    # Validation loss\n",
    "    model.eval()\n",
    "    predicted_labels = []\n",
    "    prob_0 = []  # Probability for class 0 (loan approved)\n",
    "    prob_1 = []  # Probability for class 1 (loan rejected)\n",
    "\n",
    "    running_val_loss = 0.0\n",
    "\n",
    "    with torch.no_grad():\n",
    "        for X_batch, y_batch in val_loader:\n",
    "            outputs = model(X_batch)\n",
    "            probs = torch.softmax(outputs, dim=1)             # Probabilities for each class\n",
    "            _, preds = torch.max(probs, 1)                    # Get predicted class labels (0 or 1)\n",
    "\n",
    "            loss = criterion(outputs, y_batch)                # Use the original y_batch here!\n",
    "            running_val_loss += loss.item()\n",
    "\n",
    "            predicted_labels.extend(preds.cpu().numpy())\n",
    "            prob_0.extend(probs[:, 0].cpu().numpy())  # Class 0 (loan approved)\n",
    "            prob_1.extend(probs[:, 1].cpu().numpy())  # Class 1 (loan rejected)\n",
    "\n",
    "    avg_val_loss = running_val_loss / len(val_loader)\n",
    "    val_losses.append(avg_val_loss)\n",
    "\n",
    "    print(f\"Epoch {epoch+1} - Train Loss: {avg_train_loss:.4f}, Val Loss: {avg_val_loss:.4f}\")\n",
    "\n",
    "    # Check early stopping condition\n",
    "    if avg_val_loss + min_delta < best_val_loss:\n",
    "        best_val_loss = avg_val_loss\n",
    "        epochs_no_improve = 0\n",
    "        best_model_state = model.state_dict()  # Save best model\n",
    "    else:\n",
    "        epochs_no_improve += 1\n",
    "\n",
    "    if epochs_no_improve >= patience:\n",
    "        print(f\"Early stopping triggered at epoch {epoch+1}\")\n",
    "        early_stop = True\n",
    "        break\n",
    "\n",
    "# After training, optionally load the best model weights\n",
    "#model.load_state_dict(best_model_state)"
   ]
  },
  {
   "cell_type": "code",
   "execution_count": 6,
   "id": "a47c62d0-9a80-4d5e-b0d7-193d98f85d01",
   "metadata": {},
   "outputs": [
    {
     "data": {
      "image/png": "[encoded data removed]",
      "text/plain": [
       "<Figure size 800x500 with 1 Axes>"
      ]
     },
     "metadata": {},
     "output_type": "display_data"
    }
   ],
   "source": [
    "# Plot learning curve\n",
    "plt.figure(figsize=(8, 5))\n",
    "plt.plot(train_losses, label=\"Training Loss\")\n",
    "plt.plot(val_losses, label=\"Validation Loss\")\n",
    "plt.title(\"Learning Curve\")\n",
    "plt.xlabel(\"Epoch\")\n",
    "plt.ylabel(\"Loss\")\n",
    "plt.legend()\n",
    "plt.grid(True)\n",
    "plt.tight_layout()\n",
    "plt.show()"
   ]
  },
  {
   "cell_type": "code",
   "execution_count": 7,
   "id": "f5d18371-32bb-436d-8b9e-36c01f1b39f7",
   "metadata": {},
   "outputs": [
    {
     "data": {
      "text/html": [
       "<div>\n",
       "<style scoped>\n",
       "    .dataframe tbody tr th:only-of-type {\n",
       "        vertical-align: middle;\n",
       "    }\n",
       "\n",
       "    .dataframe tbody tr th {\n",
       "        vertical-align: top;\n",
       "    }\n",
       "\n",
       "    .dataframe thead th {\n",
       "        text-align: right;\n",
       "    }\n",
       "</style>\n",
       "<table border=\"1\" class=\"dataframe\">\n",
       "  <thead>\n",
       "    <tr style=\"text-align: right;\">\n",
       "      <th></th>\n",
       "      <th>true_label</th>\n",
       "      <th>predicted_label</th>\n",
       "      <th>probability_0</th>\n",
       "      <th>probability_1</th>\n",
       "    </tr>\n",
       "  </thead>\n",
       "  <tbody>\n",
       "    <tr>\n",
       "      <th>0</th>\n",
       "      <td>0</td>\n",
       "      <td>0</td>\n",
       "      <td>0.984466</td>\n",
       "      <td>0.015534</td>\n",
       "    </tr>\n",
       "    <tr>\n",
       "      <th>1</th>\n",
       "      <td>0</td>\n",
       "      <td>0</td>\n",
       "      <td>0.983030</td>\n",
       "      <td>0.016970</td>\n",
       "    </tr>\n",
       "    <tr>\n",
       "      <th>2</th>\n",
       "      <td>0</td>\n",
       "      <td>0</td>\n",
       "      <td>0.987807</td>\n",
       "      <td>0.012193</td>\n",
       "    </tr>\n",
       "    <tr>\n",
       "      <th>3</th>\n",
       "      <td>0</td>\n",
       "      <td>0</td>\n",
       "      <td>0.983862</td>\n",
       "      <td>0.016138</td>\n",
       "    </tr>\n",
       "    <tr>\n",
       "      <th>4</th>\n",
       "      <td>0</td>\n",
       "      <td>0</td>\n",
       "      <td>0.985476</td>\n",
       "      <td>0.014524</td>\n",
       "    </tr>\n",
       "    <tr>\n",
       "      <th>...</th>\n",
       "      <td>...</td>\n",
       "      <td>...</td>\n",
       "      <td>...</td>\n",
       "      <td>...</td>\n",
       "    </tr>\n",
       "    <tr>\n",
       "      <th>34851</th>\n",
       "      <td>1</td>\n",
       "      <td>1</td>\n",
       "      <td>0.012253</td>\n",
       "      <td>0.987747</td>\n",
       "    </tr>\n",
       "    <tr>\n",
       "      <th>34852</th>\n",
       "      <td>0</td>\n",
       "      <td>0</td>\n",
       "      <td>0.982134</td>\n",
       "      <td>0.017866</td>\n",
       "    </tr>\n",
       "    <tr>\n",
       "      <th>34853</th>\n",
       "      <td>0</td>\n",
       "      <td>0</td>\n",
       "      <td>0.979655</td>\n",
       "      <td>0.020345</td>\n",
       "    </tr>\n",
       "    <tr>\n",
       "      <th>34854</th>\n",
       "      <td>0</td>\n",
       "      <td>0</td>\n",
       "      <td>0.923581</td>\n",
       "      <td>0.076419</td>\n",
       "    </tr>\n",
       "    <tr>\n",
       "      <th>34855</th>\n",
       "      <td>0</td>\n",
       "      <td>0</td>\n",
       "      <td>0.977068</td>\n",
       "      <td>0.022932</td>\n",
       "    </tr>\n",
       "  </tbody>\n",
       "</table>\n",
       "<p>34856 rows × 4 columns</p>\n",
       "</div>"
      ],
      "text/plain": [
       "       true_label  predicted_label  probability_0  probability_1\n",
       "0               0                0       0.984466       0.015534\n",
       "1               0                0       0.983030       0.016970\n",
       "2               0                0       0.987807       0.012193\n",
       "3               0                0       0.983862       0.016138\n",
       "4               0                0       0.985476       0.014524\n",
       "...           ...              ...            ...            ...\n",
       "34851           1                1       0.012253       0.987747\n",
       "34852           0                0       0.982134       0.017866\n",
       "34853           0                0       0.979655       0.020345\n",
       "34854           0                0       0.923581       0.076419\n",
       "34855           0                0       0.977068       0.022932\n",
       "\n",
       "[34856 rows x 4 columns]"
      ]
     },
     "execution_count": 7,
     "metadata": {},
     "output_type": "execute_result"
    }
   ],
   "source": [
    "# Combine everything into a nice table\n",
    "results_df = pd.DataFrame({\n",
    "    \"true_label\": y_val,\n",
    "    \"predicted_label\": predicted_labels,\n",
    "    \"probability_0\": prob_0,   # loan_status = 0\n",
    "    \"probability_1\": prob_1    # loan_status = 1\n",
    "})\n",
    "\n",
    "# Preview\n",
    "results_df.to_csv(\"results.csv\")\n",
    "results_df"
   ]
  },
  {
   "cell_type": "markdown",
   "id": "9bacaea4-c3e4-4144-b7f4-b8c41b70e144",
   "metadata": {},
   "source": [
    "## 5. Evaluate the model"
   ]
  },
  {
   "cell_type": "code",
   "execution_count": 8,
   "id": "340642a6-757b-4e34-980d-2f85c84b302e",
   "metadata": {},
   "outputs": [
    {
     "name": "stdout",
     "output_type": "stream",
     "text": [
      "\n",
      "--- Evaluation on Training Data ---\n",
      "AUC-ROC:     0.9867\n",
      "F1-Score:    0.9046\n",
      "Precision:   0.9179\n",
      "Recall:      0.8916\n",
      "Confusion Matrix:\n",
      "[[114450   1844]\n",
      " [  2507  20622]]\n",
      "Mean G-Mean: 0.9367\n"
     ]
    },
    {
     "data": {
      "image/png": "[encoded data removed]",
      "text/plain": [
       "<Figure size 600x400 with 2 Axes>"
      ]
     },
     "metadata": {},
     "output_type": "display_data"
    },
    {
     "name": "stdout",
     "output_type": "stream",
     "text": [
      "\n",
      "--- Evaluation on Validation Data ---\n",
      "AUC-ROC:     0.9867\n",
      "F1-Score:    0.9011\n",
      "Precision:   0.9119\n",
      "Recall:      0.8904\n",
      "Confusion Matrix:\n",
      "[[28581   497]\n",
      " [  633  5145]]\n",
      "Mean G-Mean: 0.9355\n"
     ]
    },
    {
     "data": {
      "image/png": "[encoded data removed]",
      "text/plain": [
       "<Figure size 600x400 with 2 Axes>"
      ]
     },
     "metadata": {},
     "output_type": "display_data"
    },
    {
     "name": "stdout",
     "output_type": "stream",
     "text": [
      "\n",
      "--- Evaluation on Test Data ---\n",
      "AUC-ROC:     0.9642\n",
      "F1-Score:    0.7794\n",
      "Precision:   0.7214\n",
      "Recall:      0.8475\n",
      "Confusion Matrix:\n",
      "[[113276   3985]\n",
      " [  1857  10320]]\n",
      "Mean G-Mean: 0.9048\n"
     ]
    },
    {
     "data": {
      "image/png": "[encoded data removed]",
      "text/plain": [
       "<Figure size 600x400 with 2 Axes>"
      ]
     },
     "metadata": {},
     "output_type": "display_data"
    }
   ],
   "source": [
    "# === Step 5: Evaluation Metrics ===\n",
    "test_loader = DataLoader(test_dataset, batch_size=batch_size)\n",
    "\n",
    "def evaluate_model(model, data_loader, dataset_name=\"\"):\n",
    "    model.eval()\n",
    "    y_true, y_pred, y_prob = [], [], []\n",
    "\n",
    "    with torch.no_grad():\n",
    "        for X_batch, y_batch in data_loader:\n",
    "            outputs = model(X_batch)\n",
    "            probs = torch.softmax(outputs, dim=1)[:, 1]\n",
    "            #_, preds = torch.max(outputs, 1)\n",
    "            preds = (probs > 0.3).int() # set the threshold as 0.3 to gain recall score\n",
    "            y_true.extend(y_batch.numpy())\n",
    "            y_pred.extend(preds.numpy())\n",
    "            y_prob.extend(probs.numpy())\n",
    "\n",
    "    # Compute metrics\n",
    "    auc = roc_auc_score(y_true, y_prob)\n",
    "    f1 = f1_score(y_true, y_pred)\n",
    "    precision = precision_score(y_true, y_pred)\n",
    "    recall = recall_score(y_true, y_pred)\n",
    "    conf_matrix = confusion_matrix(y_true, y_pred)\n",
    "    # Compute G-mean\n",
    "    tn, fp, fn, tp = conf_matrix.ravel()\n",
    "    tpr = tp / (tp + fn + 1e-6)\n",
    "    tnr = tn / (tn + fp + 1e-6)\n",
    "    gmean = np.sqrt(tpr * tnr)\n",
    "\n",
    "    # Print results\n",
    "    print(f\"\\n--- Evaluation on {dataset_name} ---\")\n",
    "    print(f\"AUC-ROC:     {auc:.4f}\")\n",
    "    print(f\"F1-Score:    {f1:.4f}\")\n",
    "    print(f\"Precision:   {precision:.4f}\")\n",
    "    print(f\"Recall:      {recall:.4f}\")\n",
    "    print(\"Confusion Matrix:\")\n",
    "    print(conf_matrix)\n",
    "    print(f\"Mean G-Mean: {gmean:.4f}\")\n",
    "\n",
    "    # Plot confusion matrix\n",
    "    plt.figure(figsize=(6, 4))\n",
    "    sns.heatmap(conf_matrix, annot=True, fmt=\"d\", cmap=\"Blues\")\n",
    "    plt.title(f\"Confusion Matrix - {dataset_name}\")\n",
    "    plt.xlabel(\"Predicted\")\n",
    "    plt.ylabel(\"Actual\")\n",
    "    plt.tight_layout()\n",
    "    plt.show()\n",
    "\n",
    "# Run on both datasets\n",
    "evaluate_model(model, train_loader, \"Training Data\")\n",
    "evaluate_model(model, val_loader, \"Validation Data\")\n",
    "evaluate_model(model, test_loader, \"Test Data\")"
   ]
  },
  {
   "cell_type": "markdown",
   "id": "828d46a8-c78e-4d2e-b8f8-7d2c9bdc74a0",
   "metadata": {},
   "source": [
    "## 6. Save the model"
   ]
  },
  {
   "cell_type": "code",
   "execution_count": 9,
   "id": "c4418a1d-1cf7-436b-850d-5e4e37dfeee1",
   "metadata": {},
   "outputs": [],
   "source": [
    "# === Step 6: Save Model and Scaler ===\n",
    "# Save both model weights and best_params dictionary\n",
    "torch.save({\n",
    "    'model_state_dict': model.state_dict(),\n",
    "    'model_params': best_params\n",
    "}, \"lstm_model_full.pth\")\n",
    "\n",
    "# Convert dict to DataFrame (1 row)\n",
    "params_df = pd.DataFrame([best_params])\n",
    "\n",
    "# Save to CSV\n",
    "params_df.to_csv(\"best_params.csv\", index=False)\n",
    "\n",
    "# Save scaler used for input normalization\n",
    "#joblib.dump(scaler, \"scaler.pkl\")"
   ]
  },
  {
   "cell_type": "code",
   "execution_count": 10,
   "id": "74c74830-38b2-43d6-95bb-1e3e0908e534",
   "metadata": {},
   "outputs": [],
   "source": [
    "# === Optional: Load Model and Scaler Later ===\n",
    "# Read CSV back into dict\n",
    "loaded_params_df = pd.read_csv(\"best_params.csv\")\n",
    "best_params = loaded_params_df.iloc[0].to_dict()\n",
    "\n",
    "# Convert float strings to actual int if needed\n",
    "# (because CSV stores all as float by default)\n",
    "best_params['hidden_size'] = int(best_params['hidden_size'])\n",
    "best_params['num_layers'] = int(best_params['num_layers'])\n",
    "best_params['batch_size'] = int(best_params['batch_size'])"
   ]
  },
  {
   "cell_type": "markdown",
   "id": "ed2c8b44-cdf0-403b-81e2-51081ca866e9",
   "metadata": {},
   "source": [
    "## Optional: load the model"
   ]
  },
  {
   "cell_type": "code",
   "execution_count": 11,
   "id": "97c6080b-2ec4-4169-b1fc-5becf4064983",
   "metadata": {},
   "outputs": [],
   "source": [
    "# Load both weights and structure\n",
    "#checkpoint = torch.load(\"lstm_model_full.pth\")\n",
    "#params = checkpoint['model_params']\n",
    "\n",
    "#model = LSTMClassifier(input_size=X.shape[2],\n",
    "                       #hidden_size=params['hidden_size'],\n",
    "                       #num_layers=params['num_layers'],\n",
    "                       #num_classes=2,\n",
    "                       #dropout=params['dropout'])\n",
    "#model.load_state_dict(checkpoint['model_state_dict'])\n",
    "#model.eval()\n",
    "# scaler = joblib.load(\"scaler.pkl\")"
   ]
  },
  {
   "cell_type": "code",
   "execution_count": null,
   "id": "113481ed-6737-422c-8a2a-9c958b1e176a",
   "metadata": {},
   "outputs": [],
   "source": []
  }
 ],
 "metadata": {
  "kernelspec": {
   "display_name": "Python 3 (ipykernel)",
   "language": "python",
   "name": "python3"
  },
  "language_info": {
   "codemirror_mode": {
    "name": "ipython",
    "version": 3
   },
   "file_extension": ".py",
   "mimetype": "text/x-python",
   "name": "python",
   "nbconvert_exporter": "python",
   "pygments_lexer": "ipython3",
   "version": "3.13.3"
  }
 },
 "nbformat": 4,
 "nbformat_minor": 5
}
